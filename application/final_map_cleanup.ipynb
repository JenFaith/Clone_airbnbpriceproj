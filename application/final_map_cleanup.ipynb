{
 "metadata": {
  "language_info": {
   "codemirror_mode": {
    "name": "ipython",
    "version": 3
   },
   "file_extension": ".py",
   "mimetype": "text/x-python",
   "name": "python",
   "nbconvert_exporter": "python",
   "pygments_lexer": "ipython3",
   "version": "3.9.0-final"
  },
  "orig_nbformat": 2,
  "kernelspec": {
   "name": "python3",
   "display_name": "Python 3.9.0 64-bit",
   "metadata": {
    "interpreter": {
     "hash": "a2742fb1ec8ec3cbc3f5649403520b759ea743ffbc9612c8d68123df8c147a01"
    }
   }
  }
 },
 "nbformat": 4,
 "nbformat_minor": 2,
 "cells": [
  {
   "cell_type": "code",
   "execution_count": 16,
   "metadata": {},
   "outputs": [
    {
     "output_type": "stream",
     "name": "stdout",
     "text": [
      "         city   latitude   longitude  log_price        room_type  \\\n60     Boston  42.336007  -71.052918   4.828314  Entire home/apt   \n150    Boston  42.332122  -71.112803   4.007333     Private room   \n194    Boston  42.382883  -71.067843   5.164786  Entire home/apt   \n224    Boston  42.351527  -71.060004   5.963579  Entire home/apt   \n269    Boston  42.333470  -71.109118   4.382027     Private room   \n...       ...        ...         ...        ...              ...   \n53517      SF  37.774374 -122.464404   4.343805     Private room   \n61463      SF  37.749632 -122.420082   5.010635  Entire home/apt   \n72230      SF  37.734620 -122.388062   3.688879     Private room   \n73007      SF  37.771075 -122.444411   4.653960     Private room   \n42808      SF  37.783856 -122.462749   4.077537     Private room   \n\n      property_type  review_scores_rating  \n60        Apartment                 100.0  \n150       Apartment                 100.0  \n194     Condominium                 100.0  \n224       Apartment                 100.0  \n269       Apartment                 100.0  \n...             ...                   ...  \n53517     Apartment                  70.0  \n61463     Apartment                  70.0  \n72230         House                  70.0  \n73007     Apartment                  70.0  \n42808         House                  69.0  \n\n[27187 rows x 7 columns]\n"
     ]
    }
   ],
   "source": [
    "# Final cleanup of map assets for airbnb app. lets hope we use em somehow. \n",
    "\n",
    "import pandas as pd\n",
    "import numpy as np\n",
    "\n",
    "df = pd.read_csv('C:/Users/slups/Documents/GitHub/train.csv')\n",
    "\n",
    "# can change this to easily add or subtract features\n",
    "df = df[['city', 'latitude', 'longitude', 'log_price', 'room_type', 'property_type', 'review_scores_rating']]\n",
    "df = df.sort_values(by=['city', 'review_scores_rating'], ascending=[True, False])\n",
    "cities = df['city'].unique()\n",
    "df_map = pd.DataFrame()\n",
    "for city in cities:\n",
    "  df_city = df[df[\"city\"]==city]\n",
    "  df_city = df_city.iloc[:5000, :] # change this number for more or less per city\n",
    "  df_map = df_map.append(df_city)\n",
    "print(df_map)"
   ]
  },
  {
   "cell_type": "code",
   "execution_count": 13,
   "metadata": {},
   "outputs": [
    {
     "output_type": "execute_result",
     "data": {
      "text/plain": [
       "       city   latitude  longitude  log_price        room_type property_type  \\\n",
       "60   Boston  42.336007 -71.052918   4.828314  Entire home/apt     Apartment   \n",
       "150  Boston  42.332122 -71.112803   4.007333     Private room     Apartment   \n",
       "194  Boston  42.382883 -71.067843   5.164786  Entire home/apt   Condominium   \n",
       "224  Boston  42.351527 -71.060004   5.963579  Entire home/apt     Apartment   \n",
       "269  Boston  42.333470 -71.109118   4.382027     Private room     Apartment   \n",
       "\n",
       "     review_scores_rating  \n",
       "60                  100.0  \n",
       "150                 100.0  \n",
       "194                 100.0  \n",
       "224                 100.0  \n",
       "269                 100.0  "
      ],
      "text/html": "<div>\n<style scoped>\n    .dataframe tbody tr th:only-of-type {\n        vertical-align: middle;\n    }\n\n    .dataframe tbody tr th {\n        vertical-align: top;\n    }\n\n    .dataframe thead th {\n        text-align: right;\n    }\n</style>\n<table border=\"1\" class=\"dataframe\">\n  <thead>\n    <tr style=\"text-align: right;\">\n      <th></th>\n      <th>city</th>\n      <th>latitude</th>\n      <th>longitude</th>\n      <th>log_price</th>\n      <th>room_type</th>\n      <th>property_type</th>\n      <th>review_scores_rating</th>\n    </tr>\n  </thead>\n  <tbody>\n    <tr>\n      <th>60</th>\n      <td>Boston</td>\n      <td>42.336007</td>\n      <td>-71.052918</td>\n      <td>4.828314</td>\n      <td>Entire home/apt</td>\n      <td>Apartment</td>\n      <td>100.0</td>\n    </tr>\n    <tr>\n      <th>150</th>\n      <td>Boston</td>\n      <td>42.332122</td>\n      <td>-71.112803</td>\n      <td>4.007333</td>\n      <td>Private room</td>\n      <td>Apartment</td>\n      <td>100.0</td>\n    </tr>\n    <tr>\n      <th>194</th>\n      <td>Boston</td>\n      <td>42.382883</td>\n      <td>-71.067843</td>\n      <td>5.164786</td>\n      <td>Entire home/apt</td>\n      <td>Condominium</td>\n      <td>100.0</td>\n    </tr>\n    <tr>\n      <th>224</th>\n      <td>Boston</td>\n      <td>42.351527</td>\n      <td>-71.060004</td>\n      <td>5.963579</td>\n      <td>Entire home/apt</td>\n      <td>Apartment</td>\n      <td>100.0</td>\n    </tr>\n    <tr>\n      <th>269</th>\n      <td>Boston</td>\n      <td>42.333470</td>\n      <td>-71.109118</td>\n      <td>4.382027</td>\n      <td>Private room</td>\n      <td>Apartment</td>\n      <td>100.0</td>\n    </tr>\n  </tbody>\n</table>\n</div>"
     },
     "metadata": {},
     "execution_count": 13
    }
   ],
   "source": [
    "df_map.head()"
   ]
  },
  {
   "cell_type": "code",
   "execution_count": 17,
   "metadata": {},
   "outputs": [
    {
     "output_type": "execute_result",
     "data": {
      "text/plain": [
       "(27187, 7)"
      ]
     },
     "metadata": {},
     "execution_count": 17
    }
   ],
   "source": [
    "df_map.shape"
   ]
  },
  {
   "cell_type": "code",
   "execution_count": 18,
   "metadata": {},
   "outputs": [],
   "source": [
    "df_map.to_csv('final_maps_27000.csv')"
   ]
  },
  {
   "cell_type": "code",
   "execution_count": null,
   "metadata": {},
   "outputs": [],
   "source": []
  }
 ]
}